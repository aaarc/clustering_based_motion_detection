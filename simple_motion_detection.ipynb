{
 "cells": [
  {
   "cell_type": "markdown",
   "id": "a5aafc27-ee24-474b-afb6-69af15297bb7",
   "metadata": {},
   "source": [
    "## Motion Detection in a Video Stream using Clustering\n",
    "\n",
    "a easy to understant and accurate motion detector which can detect motion in a video stream,made with python\n",
    "\n",
    "#### Libraries used: \n",
    "\n",
    "CV2 to access the video Stream\n",
    "Sklearn to access clustering implementations\n",
    "\n",
    "#### what i've done:\n",
    "access video stream,\n",
    "consider multiple frames and check for similarity <b>(for similarity i have used a rmse based similarity metric)</b> the sensitivity can be adjusted by modifying the threshold of similarity\n"
   ]
  },
  {
   "cell_type": "code",
   "execution_count": null,
   "id": "71162724-aab1-4905-9556-6e99981db382",
   "metadata": {},
   "outputs": [],
   "source": [
    "def warn(*args, **kwargs):\n",
    "    pass\n",
    "import warnings\n",
    "warnings.warn = warn"
   ]
  },
  {
   "cell_type": "code",
   "execution_count": 2,
   "id": "4b028da7",
   "metadata": {},
   "outputs": [],
   "source": [
    "#final motion detection\n",
    "\n",
    "import cv2\n",
    "import pandas as pd\n",
    "import numpy as np\n",
    "import matplotlib.pyplot as plt\n",
    "from  sklearn.cluster import KMeans\n",
    "\n",
    "#colour conversion\n",
    "def black_or_white(a):\n",
    "    tr=np.ones(3)\n",
    "    for x in range(3):\n",
    "        if(a[x]>127):\n",
    "            tr[x]=255\n",
    "        else:\n",
    "            tr[x]=0\n",
    "    return tr  \n",
    "def black_or_white_pro(a):\n",
    "    t=a.tolist()\n",
    "    if(t.count(255)>=2):\n",
    "        return np.array([255,255,255])\n",
    "    else:\n",
    "        return np.array([0,0,0])\n",
    "\n",
    "\n",
    "#similarity smetric\n",
    "def similarity_score(a,b):\n",
    "    t=1\n",
    "    for x in seg.shape:\n",
    "        t=t*x\n",
    "    return (np.sum(a==b)/t)\n",
    "\n",
    "\n",
    "# modify the threshold to adjust sensitivity , lower the threshold, lower the sensitivity\n",
    "threshold = 0.975\n",
    "a=0\n",
    "seg2=0\n",
    "km=KMeans(n_clusters=2)\n",
    "vid=cv2.VideoCapture(0)\n",
    "if vid.isOpened():\n",
    "    while(True):\n",
    "        ret,frame=vid.read()\n",
    "        if ret:\n",
    "            imgr=frame.reshape((-1,3))\n",
    "            km.fit(imgr)\n",
    "            img2=imgr\n",
    "            for i in range(2):\n",
    "                img2[km.labels_ == i] = black_or_white_pro(black_or_white(km.cluster_centers_[i]))\n",
    "            seg = img2.reshape(frame.shape)\n",
    "            if(a==0):\n",
    "                seg2=seg\n",
    "                a=1\n",
    "            cv2.imshow(\"Frame\",seg)\n",
    "            if(similarity_score(seg,seg2)>threshold):\n",
    "                print('NO Motion Detected')\n",
    "            else:\n",
    "                print('Motion Detected')\n",
    "            seg2=seg\n",
    "            if cv2.waitKey(1) & 0xFF == ord('q'):\n",
    "                vid.release()\n",
    "                cv2.destroyAllWindows()\n",
    "                break"
   ]
  },
  {
   "cell_type": "code",
   "execution_count": null,
   "id": "618c905c",
   "metadata": {},
   "outputs": [],
   "source": []
  },
  {
   "cell_type": "code",
   "execution_count": null,
   "id": "4f2156b6",
   "metadata": {},
   "outputs": [],
   "source": []
  },
  {
   "cell_type": "code",
   "execution_count": null,
   "id": "09970a43",
   "metadata": {},
   "outputs": [],
   "source": []
  },
  {
   "cell_type": "code",
   "execution_count": null,
   "id": "2317ac22",
   "metadata": {},
   "outputs": [],
   "source": []
  },
  {
   "cell_type": "code",
   "execution_count": null,
   "id": "63f4ff44",
   "metadata": {},
   "outputs": [],
   "source": []
  },
  {
   "cell_type": "code",
   "execution_count": null,
   "id": "c9adcd81",
   "metadata": {},
   "outputs": [],
   "source": []
  },
  {
   "cell_type": "code",
   "execution_count": null,
   "id": "30ea1b16",
   "metadata": {},
   "outputs": [],
   "source": []
  },
  {
   "cell_type": "code",
   "execution_count": null,
   "id": "79a65977",
   "metadata": {},
   "outputs": [],
   "source": []
  },
  {
   "cell_type": "code",
   "execution_count": null,
   "id": "1b3987e1",
   "metadata": {},
   "outputs": [],
   "source": []
  },
  {
   "cell_type": "code",
   "execution_count": null,
   "id": "b783e854",
   "metadata": {},
   "outputs": [],
   "source": []
  },
  {
   "cell_type": "code",
   "execution_count": null,
   "id": "d8b92b42",
   "metadata": {},
   "outputs": [],
   "source": []
  },
  {
   "cell_type": "code",
   "execution_count": null,
   "id": "e6c09595",
   "metadata": {},
   "outputs": [],
   "source": []
  },
  {
   "cell_type": "code",
   "execution_count": null,
   "id": "b453f496-6c74-4a1f-809d-4377271ccc96",
   "metadata": {},
   "outputs": [],
   "source": []
  },
  {
   "cell_type": "code",
   "execution_count": null,
   "id": "ebddf071-f369-4ae4-b8c6-f2173e381761",
   "metadata": {},
   "outputs": [],
   "source": []
  },
  {
   "cell_type": "code",
   "execution_count": null,
   "id": "e8b4077d-2cc1-4714-b43a-d8a9e5a6783a",
   "metadata": {},
   "outputs": [],
   "source": []
  },
  {
   "cell_type": "code",
   "execution_count": null,
   "id": "e784b7f7-8a10-4c33-9fc7-c2e17a124900",
   "metadata": {},
   "outputs": [],
   "source": []
  }
 ],
 "metadata": {
  "kernelspec": {
   "display_name": "Python 3 (ipykernel)",
   "language": "python",
   "name": "python3"
  },
  "language_info": {
   "codemirror_mode": {
    "name": "ipython",
    "version": 3
   },
   "file_extension": ".py",
   "mimetype": "text/x-python",
   "name": "python",
   "nbconvert_exporter": "python",
   "pygments_lexer": "ipython3",
   "version": "3.12.5"
  }
 },
 "nbformat": 4,
 "nbformat_minor": 5
}
